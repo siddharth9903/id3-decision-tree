{
 "cells": [
  {
   "cell_type": "code",
   "execution_count": 1,
   "id": "40b38698",
   "metadata": {},
   "outputs": [],
   "source": [
    "import pandas as pd\n",
    "import math\n",
    "import numpy as np"
   ]
  },
  {
   "cell_type": "code",
   "execution_count": 17,
   "id": "ef117f88",
   "metadata": {},
   "outputs": [
    {
     "data": {
      "text/html": [
       "<div>\n",
       "<style scoped>\n",
       "    .dataframe tbody tr th:only-of-type {\n",
       "        vertical-align: middle;\n",
       "    }\n",
       "\n",
       "    .dataframe tbody tr th {\n",
       "        vertical-align: top;\n",
       "    }\n",
       "\n",
       "    .dataframe thead th {\n",
       "        text-align: right;\n",
       "    }\n",
       "</style>\n",
       "<table border=\"1\" class=\"dataframe\">\n",
       "  <thead>\n",
       "    <tr style=\"text-align: right;\">\n",
       "      <th></th>\n",
       "      <th>outlook</th>\n",
       "      <th>temperature</th>\n",
       "      <th>humidity</th>\n",
       "      <th>wind</th>\n",
       "      <th>answer</th>\n",
       "    </tr>\n",
       "  </thead>\n",
       "  <tbody>\n",
       "    <tr>\n",
       "      <th>0</th>\n",
       "      <td>sunny</td>\n",
       "      <td>hot</td>\n",
       "      <td>high</td>\n",
       "      <td>weak</td>\n",
       "      <td>no</td>\n",
       "    </tr>\n",
       "    <tr>\n",
       "      <th>1</th>\n",
       "      <td>sunny</td>\n",
       "      <td>hot</td>\n",
       "      <td>high</td>\n",
       "      <td>strong</td>\n",
       "      <td>no</td>\n",
       "    </tr>\n",
       "    <tr>\n",
       "      <th>2</th>\n",
       "      <td>overcast</td>\n",
       "      <td>hot</td>\n",
       "      <td>high</td>\n",
       "      <td>weak</td>\n",
       "      <td>yes</td>\n",
       "    </tr>\n",
       "    <tr>\n",
       "      <th>3</th>\n",
       "      <td>rain</td>\n",
       "      <td>mild</td>\n",
       "      <td>high</td>\n",
       "      <td>weak</td>\n",
       "      <td>yes</td>\n",
       "    </tr>\n",
       "    <tr>\n",
       "      <th>4</th>\n",
       "      <td>rain</td>\n",
       "      <td>cool</td>\n",
       "      <td>normal</td>\n",
       "      <td>weak</td>\n",
       "      <td>yes</td>\n",
       "    </tr>\n",
       "    <tr>\n",
       "      <th>5</th>\n",
       "      <td>rain</td>\n",
       "      <td>cool</td>\n",
       "      <td>normal</td>\n",
       "      <td>strong</td>\n",
       "      <td>no</td>\n",
       "    </tr>\n",
       "    <tr>\n",
       "      <th>6</th>\n",
       "      <td>overcast</td>\n",
       "      <td>cool</td>\n",
       "      <td>normal</td>\n",
       "      <td>strong</td>\n",
       "      <td>yes</td>\n",
       "    </tr>\n",
       "    <tr>\n",
       "      <th>7</th>\n",
       "      <td>sunny</td>\n",
       "      <td>mild</td>\n",
       "      <td>high</td>\n",
       "      <td>weak</td>\n",
       "      <td>no</td>\n",
       "    </tr>\n",
       "    <tr>\n",
       "      <th>8</th>\n",
       "      <td>sunny</td>\n",
       "      <td>cool</td>\n",
       "      <td>normal</td>\n",
       "      <td>weak</td>\n",
       "      <td>yes</td>\n",
       "    </tr>\n",
       "    <tr>\n",
       "      <th>9</th>\n",
       "      <td>rain</td>\n",
       "      <td>mild</td>\n",
       "      <td>normal</td>\n",
       "      <td>weak</td>\n",
       "      <td>yes</td>\n",
       "    </tr>\n",
       "    <tr>\n",
       "      <th>10</th>\n",
       "      <td>sunny</td>\n",
       "      <td>mild</td>\n",
       "      <td>normal</td>\n",
       "      <td>strong</td>\n",
       "      <td>yes</td>\n",
       "    </tr>\n",
       "    <tr>\n",
       "      <th>11</th>\n",
       "      <td>overcast</td>\n",
       "      <td>mild</td>\n",
       "      <td>high</td>\n",
       "      <td>strong</td>\n",
       "      <td>yes</td>\n",
       "    </tr>\n",
       "    <tr>\n",
       "      <th>12</th>\n",
       "      <td>overcast</td>\n",
       "      <td>hot</td>\n",
       "      <td>normal</td>\n",
       "      <td>weak</td>\n",
       "      <td>yes</td>\n",
       "    </tr>\n",
       "    <tr>\n",
       "      <th>13</th>\n",
       "      <td>rain</td>\n",
       "      <td>mild</td>\n",
       "      <td>high</td>\n",
       "      <td>strong</td>\n",
       "      <td>no</td>\n",
       "    </tr>\n",
       "  </tbody>\n",
       "</table>\n",
       "</div>"
      ],
      "text/plain": [
       "     outlook temperature humidity    wind answer\n",
       "0      sunny         hot     high    weak     no\n",
       "1      sunny         hot     high  strong     no\n",
       "2   overcast         hot     high    weak    yes\n",
       "3       rain        mild     high    weak    yes\n",
       "4       rain        cool   normal    weak    yes\n",
       "5       rain        cool   normal  strong     no\n",
       "6   overcast        cool   normal  strong    yes\n",
       "7      sunny        mild     high    weak     no\n",
       "8      sunny        cool   normal    weak    yes\n",
       "9       rain        mild   normal    weak    yes\n",
       "10     sunny        mild   normal  strong    yes\n",
       "11  overcast        mild     high  strong    yes\n",
       "12  overcast         hot   normal    weak    yes\n",
       "13      rain        mild     high  strong     no"
      ]
     },
     "metadata": {},
     "output_type": "display_data"
    }
   ],
   "source": [
    "data = pd.read_csv(\"3-dataset.csv\")\n",
    "display(data)"
   ]
  },
  {
   "cell_type": "code",
   "execution_count": 18,
   "id": "aa99ee36",
   "metadata": {},
   "outputs": [
    {
     "name": "stdout",
     "output_type": "stream",
     "text": [
      "['outlook', 'temperature', 'humidity', 'wind']\n"
     ]
    }
   ],
   "source": [
    "features = [feat for feat in data]\n",
    "features.remove(\"answer\")\n",
    "print(features)"
   ]
  },
  {
   "cell_type": "code",
   "execution_count": 3,
   "id": "7b9ec042",
   "metadata": {},
   "outputs": [],
   "source": [
    "class Node:\n",
    "    def __init__(self):\n",
    "        self.children = []\n",
    "        self.value = \"\"\n",
    "        self.isLeaf = False\n",
    "        self.pred = \"\""
   ]
  },
  {
   "cell_type": "code",
   "execution_count": 4,
   "id": "f6c8e7c8",
   "metadata": {},
   "outputs": [],
   "source": [
    "def entropy(examples):\n",
    "    pos = 0.0\n",
    "    neg = 0.0\n",
    "    for _, row in examples.iterrows():\n",
    "        if row[\"answer\"] == \"yes\":\n",
    "            pos += 1\n",
    "        else:\n",
    "            neg += 1\n",
    "    if pos == 0.0 or neg == 0.0:\n",
    "        return 0.0\n",
    "    else:\n",
    "        p = pos / (pos + neg)\n",
    "        n = neg / (pos + neg)\n",
    "        return -(p * math.log(p, 2) + n * math.log(n, 2))"
   ]
  },
  {
   "cell_type": "code",
   "execution_count": 5,
   "id": "bc1f071e",
   "metadata": {},
   "outputs": [],
   "source": [
    "def info_gain(examples, attr):\n",
    "    uniq = np.unique(examples[attr])\n",
    "    gain = entropy(examples)\n",
    "    for u in uniq:\n",
    "        subdata = examples[examples[attr] == u]\n",
    "        sub_e = entropy(subdata)\n",
    "        gain -= (float(len(subdata)) / float(len(examples))) * sub_e\n",
    "    return gain"
   ]
  },
  {
   "cell_type": "code",
   "execution_count": 12,
   "id": "a3cf1724",
   "metadata": {},
   "outputs": [],
   "source": [
    "def ID3(examples, attrs):\n",
    "    root = Node()\n",
    "\n",
    "    max_gain = 0\n",
    "    max_feat = \"\"\n",
    "    for feature in attrs:\n",
    "        gain = info_gain(examples, feature)\n",
    "        if gain > max_gain:\n",
    "            max_gain = gain\n",
    "            max_feat = feature\n",
    "    root.value = max_feat\n",
    "    uniq = np.unique(examples[max_feat])\n",
    "    for u in uniq:\n",
    "        subdata = examples[examples[max_feat] == u]\n",
    "        if entropy(subdata) == 0.0:\n",
    "            newNode = Node()\n",
    "            newNode.isLeaf = True\n",
    "            newNode.value = u\n",
    "            newNode.pred = np.unique(subdata[\"answer\"])\n",
    "            root.children.append(newNode)\n",
    "        else:\n",
    "            dummyNode = Node()\n",
    "            dummyNode.value = u\n",
    "            new_attrs = attrs.copy()\n",
    "            new_attrs.remove(max_feat)\n",
    "            child = ID3(subdata, new_attrs)\n",
    "            dummyNode.children.append(child)\n",
    "            root.children.append(dummyNode)\n",
    "\n",
    "    return root"
   ]
  },
  {
   "cell_type": "code",
   "execution_count": 13,
   "id": "c5d65f36",
   "metadata": {},
   "outputs": [],
   "source": [
    "def printTree(root: Node, depth=0):\n",
    "    for i in range(depth):\n",
    "        print(\"\\t\", end=\"\")\n",
    "    print(root.value, end=\"\")\n",
    "    if root.isLeaf:\n",
    "        print(\" -> \", root.pred)\n",
    "    print()\n",
    "    for child in root.children:\n",
    "        printTree(child, depth + 1)"
   ]
  },
  {
   "cell_type": "code",
   "execution_count": 14,
   "id": "cfa63d41",
   "metadata": {},
   "outputs": [],
   "source": [
    "def classify(root: Node, new):\n",
    "    for child in root.children:\n",
    "        if child.value == new[root.value]:\n",
    "            if child.isLeaf:\n",
    "                print (\"Predicted Label for new example\", new,\" is:\", child.pred)\n",
    "                exit\n",
    "            else:\n",
    "                classify (child.children[0], new)"
   ]
  },
  {
   "cell_type": "code",
   "execution_count": 15,
   "id": "20022050",
   "metadata": {},
   "outputs": [
    {
     "name": "stdout",
     "output_type": "stream",
     "text": [
      "['outlook', 'temperature', 'humidity', 'wind']\n",
      "outlook\n",
      "information gain is  0.2467498197744391\n",
      "temperature\n",
      "information gain is  0.029222565658954647\n",
      "humidity\n",
      "information gain is  0.15183550136234136\n",
      "wind\n",
      "information gain is  0.04812703040826927\n"
     ]
    }
   ],
   "source": [
    "print(features)\n",
    "for feature in features:\n",
    "    x=info_gain(data,feature)\n",
    "    print(feature)\n",
    "    print(\"information gain is \",x)"
   ]
  },
  {
   "cell_type": "code",
   "execution_count": 16,
   "id": "aa396ee9",
   "metadata": {},
   "outputs": [
    {
     "name": "stdout",
     "output_type": "stream",
     "text": [
      "Decision Tree is : \n",
      "outlook\n",
      "\tovercast ->  ['yes']\n",
      "\n",
      "\train\n",
      "\t\twind\n",
      "\t\t\tstrong ->  ['no']\n",
      "\n",
      "\t\t\tweak ->  ['yes']\n",
      "\n",
      "\tsunny\n",
      "\t\thumidity\n",
      "\t\t\thigh ->  ['no']\n",
      "\n",
      "\t\t\tnormal ->  ['yes']\n",
      "\n"
     ]
    }
   ],
   "source": [
    "root = ID3(data, features)\n",
    "print(\"Decision Tree is : \")\n",
    "printTree(root)"
   ]
  },
  {
   "cell_type": "code",
   "execution_count": 19,
   "id": "4741f2d5",
   "metadata": {},
   "outputs": [
    {
     "name": "stdout",
     "output_type": "stream",
     "text": [
      "Predicted Label for new example {'outlook': 'sunny', 'temperature': 'hot', 'humidity': 'normal', 'wind': 'strong'}  is: ['yes']\n"
     ]
    }
   ],
   "source": [
    "new = {\"outlook\":\"sunny\", \"temperature\":\"hot\", \"humidity\":\"normal\", \"wind\":\"strong\"}\n",
    "classify(root, new)"
   ]
  },
  {
   "cell_type": "code",
   "execution_count": null,
   "id": "596cbad7",
   "metadata": {},
   "outputs": [],
   "source": []
  }
 ],
 "metadata": {
  "kernelspec": {
   "display_name": "Python 3",
   "language": "python",
   "name": "python3"
  },
  "language_info": {
   "codemirror_mode": {
    "name": "ipython",
    "version": 3
   },
   "file_extension": ".py",
   "mimetype": "text/x-python",
   "name": "python",
   "nbconvert_exporter": "python",
   "pygments_lexer": "ipython3",
   "version": "3.8.8"
  }
 },
 "nbformat": 4,
 "nbformat_minor": 5
}
